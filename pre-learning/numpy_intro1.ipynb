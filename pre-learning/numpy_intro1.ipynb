{
 "cells": [
  {
   "cell_type": "markdown",
   "id": "starting-telling",
   "metadata": {},
   "source": [
    "# Introduction to numpy 1"
   ]
  },
  {
   "cell_type": "code",
   "execution_count": 2,
   "id": "molecular-stationery",
   "metadata": {},
   "outputs": [],
   "source": [
    "import numpy as np"
   ]
  },
  {
   "cell_type": "markdown",
   "id": "organized-multiple",
   "metadata": {},
   "source": [
    "### np.array()"
   ]
  },
  {
   "cell_type": "code",
   "execution_count": 3,
   "id": "cathedral-speech",
   "metadata": {},
   "outputs": [
    {
     "name": "stdout",
     "output_type": "stream",
     "text": [
      "[1 2 3]\n"
     ]
    }
   ],
   "source": [
    "sample_ndarray = np.array([1, 2, 3])\n",
    "print(sample_ndarray)"
   ]
  },
  {
   "cell_type": "code",
   "execution_count": 4,
   "id": "municipal-admission",
   "metadata": {},
   "outputs": [
    {
     "name": "stdout",
     "output_type": "stream",
     "text": [
      "[[1 2 3]\n",
      " [4 5 6]]\n"
     ]
    }
   ],
   "source": [
    "sample_ndarray = np.array([[1, 2, 3], [4, 5, 6]])\n",
    "print(sample_ndarray)"
   ]
  },
  {
   "cell_type": "markdown",
   "id": "greenhouse-amazon",
   "metadata": {},
   "source": [
    "### Array arithmetic operation"
   ]
  },
  {
   "cell_type": "code",
   "execution_count": 7,
   "id": "original-graphics",
   "metadata": {},
   "outputs": [
    {
     "name": "stdout",
     "output_type": "stream",
     "text": [
      "[3 4 5]\n"
     ]
    }
   ],
   "source": [
    "print(2 + np.array([1, 2, 3]))"
   ]
  },
  {
   "cell_type": "code",
   "execution_count": 8,
   "id": "martial-salad",
   "metadata": {},
   "outputs": [
    {
     "name": "stdout",
     "output_type": "stream",
     "text": [
      "[3 4 5]\n"
     ]
    }
   ],
   "source": [
    "print(np.array([2, 2, 2]) + np.array([1, 2, 3]))"
   ]
  },
  {
   "cell_type": "code",
   "execution_count": 9,
   "id": "attended-parker",
   "metadata": {},
   "outputs": [
    {
     "name": "stdout",
     "output_type": "stream",
     "text": [
      "[1 4 9]\n",
      "[False False  True]\n"
     ]
    }
   ],
   "source": [
    "print(np.array([1, 2, 3]) * np.array([1, 2, 3]))\n",
    "print(np.array([1, 2, 3]) > np.array([2, 2, 2]))"
   ]
  },
  {
   "cell_type": "code",
   "execution_count": 10,
   "id": "german-florence",
   "metadata": {},
   "outputs": [
    {
     "name": "stdout",
     "output_type": "stream",
     "text": [
      "[3 4 5]\n"
     ]
    }
   ],
   "source": [
    "print(np.array([2]) + np.array([1, 2, 3]))"
   ]
  },
  {
   "cell_type": "markdown",
   "id": "central-recovery",
   "metadata": {},
   "source": [
    "### Sequence information"
   ]
  },
  {
   "cell_type": "code",
   "execution_count": 11,
   "id": "upper-heather",
   "metadata": {},
   "outputs": [
    {
     "name": "stdout",
     "output_type": "stream",
     "text": [
      "1\n",
      "(3,)\n",
      "int32\n"
     ]
    }
   ],
   "source": [
    "print(np.array([1, 2, 3]).ndim)\n",
    "print(np.array([1, 2, 3]).shape)\n",
    "print(np.array([1, 2, 3]).dtype)"
   ]
  },
  {
   "cell_type": "markdown",
   "id": "quantitative-crisis",
   "metadata": {},
   "source": [
    "### np.arange()"
   ]
  },
  {
   "cell_type": "code",
   "execution_count": 13,
   "id": "continental-redhead",
   "metadata": {},
   "outputs": [
    {
     "name": "stdout",
     "output_type": "stream",
     "text": [
      "[ 0  1  2  3  4  5  6  7  8  9 10 11 12 13 14 15 16 17 18 19 20 21 22 23\n",
      " 24 25 26 27 28 29 30 31 32 33 34 35 36 37 38 39 40 41 42 43 44 45 46 47\n",
      " 48 49]\n",
      "(50,)\n"
     ]
    }
   ],
   "source": [
    "sample_ndarray = np.arange(50)\n",
    "print(sample_ndarray)\n",
    "print(sample_ndarray.shape)"
   ]
  },
  {
   "cell_type": "code",
   "execution_count": 16,
   "id": "alien-foster",
   "metadata": {},
   "outputs": [
    {
     "name": "stdout",
     "output_type": "stream",
     "text": [
      "[50 52 54 56 58 60 62 64 66 68 70 72 74 76 78 80 82 84 86 88 90 92 94 96\n",
      " 98]\n",
      "(25,)\n"
     ]
    }
   ],
   "source": [
    "sample_ndarray = np.arange(50, 100, 2)\n",
    "print(sample_ndarray)\n",
    "print(sample_ndarray.shape)"
   ]
  },
  {
   "cell_type": "markdown",
   "id": "protective-seventh",
   "metadata": {},
   "source": [
    "### np.ones(), np.zeros(), np.full()"
   ]
  },
  {
   "cell_type": "code",
   "execution_count": 19,
   "id": "former-sally",
   "metadata": {},
   "outputs": [
    {
     "name": "stdout",
     "output_type": "stream",
     "text": [
      "[1. 1. 1. 1. 1. 1. 1. 1. 1. 1. 1. 1. 1. 1. 1. 1. 1. 1. 1. 1.]\n",
      "(20,)\n"
     ]
    }
   ],
   "source": [
    "sample_ndarray = np.ones(20)\n",
    "print(sample_ndarray)\n",
    "print(sample_ndarray.shape)"
   ]
  },
  {
   "cell_type": "code",
   "execution_count": 21,
   "id": "severe-promise",
   "metadata": {},
   "outputs": [
    {
     "name": "stdout",
     "output_type": "stream",
     "text": [
      "[0. 0. 0. 0. 0. 0. 0. 0. 0. 0. 0. 0. 0. 0. 0. 0. 0. 0. 0. 0.]\n",
      "(20,)\n"
     ]
    }
   ],
   "source": [
    "sample_ndarray = np.zeros(20)\n",
    "print(sample_ndarray)\n",
    "print(sample_ndarray.shape)"
   ]
  },
  {
   "cell_type": "code",
   "execution_count": 24,
   "id": "blond-richardson",
   "metadata": {},
   "outputs": [
    {
     "name": "stdout",
     "output_type": "stream",
     "text": [
      "[7 7 7 7 7 7 7 7 7 7 7 7 7 7 7 7 7 7 7 7]\n",
      "(20,)\n"
     ]
    }
   ],
   "source": [
    "sample_ndarray = np.full(20, 7)\n",
    "print(sample_ndarray)\n",
    "print(sample_ndarray.shape)"
   ]
  }
 ],
 "metadata": {
  "kernelspec": {
   "display_name": "Python 3",
   "language": "python",
   "name": "python3"
  },
  "language_info": {
   "codemirror_mode": {
    "name": "ipython",
    "version": 3
   },
   "file_extension": ".py",
   "mimetype": "text/x-python",
   "name": "python",
   "nbconvert_exporter": "python",
   "pygments_lexer": "ipython3",
   "version": "3.9.1"
  }
 },
 "nbformat": 4,
 "nbformat_minor": 5
}
