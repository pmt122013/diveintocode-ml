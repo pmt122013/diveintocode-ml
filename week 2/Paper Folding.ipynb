{
 "cells": [
  {
   "cell_type": "markdown",
   "id": "attempted-atmosphere",
   "metadata": {},
   "source": [
    "# Folding paper problem\n",
    "There is a story that as you continue to fold a piece of paper, it gets thicker and thicker and reaches the moon in 43 folds. However, in reality, it is not possible to fold it 10 times. It is also very difficult to calculate by hand.\n",
    "\n",
    "\n",
    "For this assignment, you will create a program that calculates the thickness of a sheet of paper when it is folded 43 times.​\n",
    "\n",
    "\n",
    "The thickness of the paper folded 43 times, $t_{43}$, can be obtained by the following formula using the thickness of the paper before folding, $t_{0}$.\n",
    "\n",
    "\n",
    "\\[$t_{43} = t_{0}×2^{43}$\\]\n",
    "The thickness of the paper before folding, $ t_ {0} $ is 0.00008m. This is the thickness of a typical sheet of photocopy paper."
   ]
  },
  {
   "cell_type": "code",
   "execution_count": 1,
   "id": "visible-collector",
   "metadata": {},
   "outputs": [],
   "source": [
    "import numpy as np\n",
    "import matplotlib.pyplot as plt\n",
    "import math"
   ]
  },
  {
   "cell_type": "markdown",
   "id": "removable-precipitation",
   "metadata": {},
   "source": [
    "### Calculation"
   ]
  },
  {
   "cell_type": "code",
   "execution_count": 2,
   "id": "eight-maria",
   "metadata": {},
   "outputs": [],
   "source": [
    "# %%timeit\n",
    "THICKNESS = 0.00008\n",
    "PI = math.pi\n",
    "\n",
    "def find_thickness(fold_time):\n",
    "    folded_thickness = THICKNESS\n",
    "    lst = [folded_thickness]\n",
    "\n",
    "    for i in range(fold_time):\n",
    "        folded_thickness *= 2\n",
    "        lst.append(folded_thickness)\n",
    "    return lst\n",
    "    \n",
    "# for i in range(42):\n",
    "#     folded_thickness += folded_thickness"
   ]
  },
  {
   "cell_type": "code",
   "execution_count": 3,
   "id": "special-antenna",
   "metadata": {},
   "outputs": [
    {
     "name": "stdout",
     "output_type": "stream",
     "text": [
      "Thickness: 703687441.77664 meters\n",
      "Thickness: 703687.44177664 kilometers\n"
     ]
    }
   ],
   "source": [
    "sample = find_thickness(43)\n",
    "print('Thickness: {:.5f} meters'.format(sample[-1]))\n",
    "print('Thickness: {:.8f} kilometers'.format(sample[-1]/1000))"
   ]
  },
  {
   "cell_type": "markdown",
   "id": "thrown-webmaster",
   "metadata": {},
   "source": [
    "### Visualize data using line graph "
   ]
  },
  {
   "cell_type": "code",
   "execution_count": 4,
   "id": "concerned-angola",
   "metadata": {},
   "outputs": [
    {
     "data": {
      "image/png": "[encoded data removed]",
      "text/plain": [
       "<Figure size 432x288 with 1 Axes>"
      ]
     },
     "metadata": {
      "needs_background": "light"
     },
     "output_type": "display_data"
    },
    {
     "data": {
      "image/png": "[encoded data removed]",
      "text/plain": [
       "<Figure size 432x288 with 1 Axes>"
      ]
     },
     "metadata": {
      "needs_background": "light"
     },
     "output_type": "display_data"
    }
   ],
   "source": [
    "%matplotlib inline\n",
    "plt.title('Thickness of folded paper')\n",
    "plt.xlabel('Number of folds')\n",
    "plt.ylabel('Thickness (m)')\n",
    "plt.plot(sample,color='orange',linewidth=3)\n",
    "plt.show()\n",
    "\n",
    "plt.title('Thickness of folded paper')\n",
    "plt.xlabel('Number of folds')\n",
    "plt.ylabel('Thickness (m)')\n",
    "plt.tick_params(labelsize=15)\n",
    "plt.plot(sample, marker='o', mfc='r', color='g', markersize=7)\n",
    "plt.show()"
   ]
  },
  {
   "cell_type": "code",
   "execution_count": 5,
   "id": "regulated-latter",
   "metadata": {},
   "outputs": [],
   "source": [
    "def find_fold_time(target_height):\n",
    "    count = 0\n",
    "    res = find_thickness(count)\n",
    "    while res[-1] <= target_height:\n",
    "        count += 1\n",
    "        res = find_thickness(count)\n",
    "    return count"
   ]
  },
  {
   "cell_type": "markdown",
   "id": "innocent-mineral",
   "metadata": {},
   "source": [
    "## To surpass the height of Mountain Fuji (3776m) "
   ]
  },
  {
   "cell_type": "code",
   "execution_count": 6,
   "id": "genuine-montreal",
   "metadata": {},
   "outputs": [
    {
     "name": "stdout",
     "output_type": "stream",
     "text": [
      "Fold times to surpass Mt.Fuji height is 26\n"
     ]
    }
   ],
   "source": [
    "target_height = 3776\n",
    "fuji_fold = find_fold_time(target_height)\n",
    "print('Fold times to surpass Mt.Fuji height is {}'.format(fuji_fold))"
   ]
  },
  {
   "cell_type": "markdown",
   "id": "structured-insurance",
   "metadata": {},
   "source": [
    "## To surpass the distance from Earth to Proxima Centuri star $4.0175 \\times 10^{16}$m"
   ]
  },
  {
   "cell_type": "code",
   "execution_count": 7,
   "id": "severe-barcelona",
   "metadata": {},
   "outputs": [
    {
     "name": "stdout",
     "output_type": "stream",
     "text": [
      "Fold times to surpass the distance from Earth to Proxima Centuri star is 69\n"
     ]
    }
   ],
   "source": [
    "target_height = 4.0175*(10**16)\n",
    "proxima_centuri_fold = find_fold_time(target_height)\n",
    "print('Fold times to surpass the distance from Earth to Proxima Centuri star is {}'.format(proxima_centuri_fold))"
   ]
  },
  {
   "cell_type": "markdown",
   "id": "limited-numbers",
   "metadata": {},
   "source": [
    "## Required paper length"
   ]
  },
  {
   "cell_type": "code",
   "execution_count": 8,
   "id": "cooked-utility",
   "metadata": {},
   "outputs": [
    {
     "name": "stdout",
     "output_type": "stream",
     "text": [
      "Paper length for Moon is 3.240919444170781e+21(m)\n",
      "Paper length for Mt. Fuji is 188646348487.24017(m)\n",
      "Paper length for Proxima Centuri star is 1.4595803601100348e+37(m)\n"
     ]
    }
   ],
   "source": [
    "def find_paper_length(fold_time):\n",
    "    return (PI*THICKNESS/6) * (2**fold_time + 4) * (2**fold_time - 1)\n",
    "\n",
    "print('Paper length for Moon is {}(m)'.format(find_paper_length(43)))\n",
    "print('Paper length for Mt. Fuji is {}(m)'.format(find_paper_length(fuji_fold)))\n",
    "print('Paper length for Proxima Centuri star is {}(m)'.format(find_paper_length(proxima_centuri_fold)))"
   ]
  }
 ],
 "metadata": {
  "kernelspec": {
   "display_name": "Python 3",
   "language": "python",
   "name": "python3"
  },
  "language_info": {
   "codemirror_mode": {
    "name": "ipython",
    "version": 3
   },
   "file_extension": ".py",
   "mimetype": "text/x-python",
   "name": "python",
   "nbconvert_exporter": "python",
   "pygments_lexer": "ipython3",
   "version": "3.9.1"
  }
 },
 "nbformat": 4,
 "nbformat_minor": 5
}
