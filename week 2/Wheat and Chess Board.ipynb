{
 "cells": [
  {
   "cell_type": "markdown",
   "id": "comfortable-rugby",
   "metadata": {},
   "source": [
    "# Wheat and Chess Board Problem\n",
    "If a chessboard were to have wheat placed upon each square such that one grain were placed on the first square, two on the second, four on the third, and so on (doubling the number of grains on each subsequent square), how many grains. of wheat would be on the chessboard at the finish?\n",
    "\n",
    "The problem is to find the final number of wheat grains on an 8x8 chessboard by placing them in the order 1, 2, 4."
   ]
  },
  {
   "cell_type": "code",
   "execution_count": 1,
   "id": "demonstrated-occurrence",
   "metadata": {},
   "outputs": [],
   "source": [
    "import numpy as np\n",
    "import matplotlib.pyplot as plt"
   ]
  },
  {
   "cell_type": "code",
   "execution_count": 2,
   "id": "tight-lender",
   "metadata": {},
   "outputs": [
    {
     "name": "stdout",
     "output_type": "stream",
     "text": [
      "Arrange wheat on a plate of 4 squares (list)：[1, 2, 4, 8]\n",
      "Arrange wheat on a plate of 4 squares (ndarray)：[[1 2]\n",
      " [4 8]]\n"
     ]
    }
   ],
   "source": [
    "n_squares = 4\n",
    "small_board_list = [1]\n",
    "for _ in range(n_squares - 1):\n",
    "    small_board_list.append(2*small_board_list[-1])\n",
    "print(\"Arrange wheat on a plate of 4 squares (list)：{}\".format(small_board_list))\n",
    "\n",
    "small_board_ndarray = np.array(small_board_list).reshape(2, 2)\n",
    "print(\"Arrange wheat on a plate of 4 squares (ndarray)：{}\".format(small_board_ndarray))"
   ]
  },
  {
   "cell_type": "markdown",
   "id": "musical-oakland",
   "metadata": {},
   "source": [
    "### Modify shape to chess board"
   ]
  },
  {
   "cell_type": "code",
   "execution_count": 3,
   "id": "forced-temperature",
   "metadata": {},
   "outputs": [],
   "source": [
    "def shape_modify(array, n, m):\n",
    "    return array.reshape(n, m)"
   ]
  },
  {
   "cell_type": "markdown",
   "id": "union-arbitration",
   "metadata": {},
   "source": [
    "### Total number of wheat"
   ]
  },
  {
   "cell_type": "code",
   "execution_count": 4,
   "id": "available-explosion",
   "metadata": {},
   "outputs": [],
   "source": [
    "def find_wheat_lst(size):\n",
    "    wheat_amount = 1\n",
    "    lst = [1]\n",
    "    for i in range(1, size):\n",
    "        wheat_amount *= 2\n",
    "        lst.append(wheat_amount)\n",
    "    return np.array(lst)\n",
    "\n",
    "wheat_array = shape_modify(find_wheat_lst(8*8), 8, 8)"
   ]
  },
  {
   "cell_type": "code",
   "execution_count": 26,
   "id": "leading-chaos",
   "metadata": {},
   "outputs": [
    {
     "name": "stdout",
     "output_type": "stream",
     "text": [
      "Total wheat on the 8x8 Chess board: 1.8446744073709552e+19\n",
      "Total wheat on each column of the 8x8 Chess board: [9.04252160e+15 1.80850432e+16 3.61700864e+16 7.23401728e+16\n",
      " 1.44680346e+17 2.89360691e+17 5.78721383e+17 1.15744277e+18]\n"
     ]
    }
   ],
   "source": [
    "def total_wheat(array):\n",
    "    return np.sum(wheat_array)\n",
    "\n",
    "def average_column(array):\n",
    "    return array.mean(axis=0)\n",
    "\n",
    "print('Total wheat on the 8x8 Chess board: {}'.format(total_wheat(wheat_array)))\n",
    "print('Total wheat on each column of the 8x8 Chess board: {}'.format(average_column(wheat_array)))"
   ]
  },
  {
   "cell_type": "markdown",
   "id": "confused-flour",
   "metadata": {},
   "source": [
    "### Visualization using Bar chart"
   ]
  },
  {
   "cell_type": "code",
   "execution_count": 6,
   "id": "actual-charlotte",
   "metadata": {},
   "outputs": [
    {
     "data": {
      "image/png": "[encoded data removed]",
      "text/plain": [
       "<Figure size 432x288 with 1 Axes>"
      ]
     },
     "metadata": {
      "needs_background": "light"
     },
     "output_type": "display_data"
    }
   ],
   "source": [
    "%matplotlib inline\n",
    "plt.xlabel(\"Column\")\n",
    "plt.ylabel(\"Average wheat\")\n",
    "plt.title(\"Average wheat in each column\")\n",
    "plt.bar(np.arange(8), average_column(wheat_array), color='orange')\n",
    "plt.show()"
   ]
  },
  {
   "cell_type": "markdown",
   "id": "grave-memory",
   "metadata": {},
   "source": [
    "### Heat map of the number of wheat"
   ]
  },
  {
   "cell_type": "code",
   "execution_count": 7,
   "id": "acting-gibraltar",
   "metadata": {},
   "outputs": [
    {
     "data": {
      "image/png": "[encoded data removed]",
      "text/plain": [
       "<Figure size 432x288 with 1 Axes>"
      ]
     },
     "metadata": {
      "needs_background": "light"
     },
     "output_type": "display_data"
    }
   ],
   "source": [
    "plt.xlabel(\"Column\")\n",
    "plt.ylabel(\"Row\")\n",
    "plt.title(\"Heatmap\")\n",
    "plt.pcolor(wheat_array)\n",
    "plt.show()"
   ]
  },
  {
   "cell_type": "markdown",
   "id": "large-desert",
   "metadata": {},
   "source": [
    "### How many times is the second half as long as the first half?"
   ]
  },
  {
   "cell_type": "code",
   "execution_count": 8,
   "id": "married-symposium",
   "metadata": {},
   "outputs": [
    {
     "name": "stdout",
     "output_type": "stream",
     "text": [
      "The number of wheat in the second half is greater than first half 34.285714285714285 time\n"
     ]
    }
   ],
   "source": [
    "first_half_sum = np.sum(wheat_array[:, 0:3])\n",
    "second_half_sum = np.sum(wheat_array[:, 4:8])\n",
    "\n",
    "print('The number of wheat in the second half is greater than first half {} time'.format(second_half_sum/first_half_sum))"
   ]
  },
  {
   "cell_type": "markdown",
   "id": "solid-legislation",
   "metadata": {},
   "source": [
    "# Other calculation method"
   ]
  },
  {
   "cell_type": "code",
   "execution_count": 14,
   "id": "radio-fleece",
   "metadata": {},
   "outputs": [
    {
     "name": "stdout",
     "output_type": "stream",
     "text": [
      "Arrange wheat on a plate of 64 squares (ndarray)：[1.00000000e+00 2.00000000e+00 4.00000000e+00 8.00000000e+00\n",
      " 1.60000000e+01 3.20000000e+01 6.40000000e+01 1.28000000e+02\n",
      " 2.56000000e+02 5.12000000e+02 1.02400000e+03 2.04800000e+03\n",
      " 4.09600000e+03 8.19200000e+03 1.63840000e+04 3.27680000e+04\n",
      " 6.55360000e+04 1.31072000e+05 2.62144000e+05 5.24288000e+05\n",
      " 1.04857600e+06 2.09715200e+06 4.19430400e+06 8.38860800e+06\n",
      " 1.67772160e+07 3.35544320e+07 6.71088640e+07 1.34217728e+08\n",
      " 2.68435456e+08 5.36870912e+08 1.07374182e+09 2.14748365e+09\n",
      " 4.29496730e+09 8.58993459e+09 1.71798692e+10 3.43597384e+10\n",
      " 6.87194767e+10 1.37438953e+11 2.74877907e+11 5.49755814e+11\n",
      " 1.09951163e+12 2.19902326e+12 4.39804651e+12 8.79609302e+12\n",
      " 1.75921860e+13 3.51843721e+13 7.03687442e+13 1.40737488e+14\n",
      " 2.81474977e+14 5.62949953e+14 1.12589991e+15 2.25179981e+15\n",
      " 4.50359963e+15 9.00719925e+15 1.80143985e+16 3.60287970e+16\n",
      " 7.20575940e+16 1.44115188e+17 2.88230376e+17 5.76460752e+17\n",
      " 1.15292150e+18 2.30584301e+18 4.61168602e+18 9.22337204e+18]\n"
     ]
    }
   ],
   "source": [
    "n_squares = 64\n",
    "small_board_ndarray = np.array([1]).astype(np.uint64)\n",
    "for _ in range(n_squares - 1):\n",
    "    small_board_ndarray = np.append(small_board_ndarray, 2*small_board_ndarray[-1])\n",
    "print(\"Arrange wheat on a plate of 64 squares (ndarray)：{}\".format(small_board_ndarray))"
   ]
  },
  {
   "cell_type": "code",
   "execution_count": 27,
   "id": "elder-antarctica",
   "metadata": {},
   "outputs": [
    {
     "name": "stdout",
     "output_type": "stream",
     "text": [
      "Arrange wheat on a plate of 64 squares (ndarray)：[                  1                   2                   4\n",
      "                   8                  16                  32\n",
      "                  64                 128                 256\n",
      "                 512                1024                2048\n",
      "                4096                8192               16384\n",
      "               32768               65536              131072\n",
      "              262144              524288             1048576\n",
      "             2097152             4194304             8388608\n",
      "            16777216            33554432            67108864\n",
      "           134217728           268435456           536870912\n",
      "          1073741824          2147483648          4294967296\n",
      "          8589934592         17179869184         34359738368\n",
      "         68719476736        137438953472        274877906944\n",
      "        549755813888       1099511627776       2199023255552\n",
      "       4398046511104       8796093022208      17592186044416\n",
      "      35184372088832      70368744177664     140737488355328\n",
      "     281474976710656     562949953421312    1125899906842624\n",
      "    2251799813685248    4503599627370496    9007199254740992\n",
      "   18014398509481984   36028797018963968   72057594037927936\n",
      "  144115188075855872  288230376151711744  576460752303423488\n",
      " 1152921504606846976 2305843009213693952 4611686018427387904\n",
      " 9223372036854775808]\n"
     ]
    }
   ],
   "source": [
    "n_squares = 64\n",
    "indices_of_squares = np.arange(n_squares).astype(np.uint64)\n",
    "small_board_ndarray = 2**indices_of_squares\n",
    "print(\"Arrange wheat on a plate of 64 squares (ndarray)：{}\".format(small_board_ndarray))"
   ]
  }
 ],
 "metadata": {
  "kernelspec": {
   "display_name": "Python 3",
   "language": "python",
   "name": "python3"
  },
  "language_info": {
   "codemirror_mode": {
    "name": "ipython",
    "version": 3
   },
   "file_extension": ".py",
   "mimetype": "text/x-python",
   "name": "python",
   "nbconvert_exporter": "python",
   "pygments_lexer": "ipython3",
   "version": "3.9.1"
  }
 },
 "nbformat": 4,
 "nbformat_minor": 5
}
