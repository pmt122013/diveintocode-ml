{
 "cells": [
  {
   "cell_type": "markdown",
   "id": "checked-fireplace",
   "metadata": {},
   "source": [
    "# Matrix Scratch"
   ]
  },
  {
   "cell_type": "markdown",
   "id": "concerned-baltimore",
   "metadata": {},
   "source": [
    "### Matric product\n"
   ]
  },
  {
   "cell_type": "code",
   "execution_count": 1,
   "id": "three-control",
   "metadata": {},
   "outputs": [],
   "source": [
    "import numpy as np\n",
    "import matplotlib.pyplot as plt"
   ]
  },
  {
   "cell_type": "code",
   "execution_count": 22,
   "id": "hybrid-kansas",
   "metadata": {},
   "outputs": [],
   "source": [
    "a_ndarray = np.array([[-1, 2, 3], [4, -5, 6], [7, 8, -9]])\n",
    "b_ndarray = np.array([[0, 2, 1], [0, 2, -8], [2, 9, -1]])"
   ]
  },
  {
   "attachments": {
    "image.png": {
     "image/png": "[encoded data removed]"
    }
   },
   "cell_type": "markdown",
   "id": "altered-english",
   "metadata": {},
   "source": [
    "![image.png](attachment:image.png)"
   ]
  },
  {
   "cell_type": "markdown",
   "id": "attempted-method",
   "metadata": {},
   "source": [
    "`np.matmul()` and `np.dot()` behaves differently in 3D or higher arrays. The `@` operator works the same as `np.matmul()`.\n",
    "\n",
    "\n",
    "In the matrix multiplication of a two-dimensional array like this time `np.matmul()` or `@` Operators are officially recommended. The following is a quote from the explanation of `np.dot()`.\n",
    "\n",
    "If both a and b are 2-D arrays, it is matrix multiplication, but using matmul or `a @ b` is preferred."
   ]
  },
  {
   "cell_type": "code",
   "execution_count": 3,
   "id": "thousand-marking",
   "metadata": {},
   "outputs": [
    {
     "name": "stdout",
     "output_type": "stream",
     "text": [
      "[[  6  29 -20]\n",
      " [ 12  52  38]\n",
      " [-18 -51 -48]]\n",
      "[[  6  29 -20]\n",
      " [ 12  52  38]\n",
      " [-18 -51 -48]]\n",
      "[[  6  29 -20]\n",
      " [ 12  52  38]\n",
      " [-18 -51 -48]]\n"
     ]
    }
   ],
   "source": [
    "res_1 = np.dot(a_ndarray, b_ndarray)\n",
    "res_2 = np.matmul(a_ndarray, b_ndarray)\n",
    "res_3 = a_ndarray @ b_ndarray\n",
    "\n",
    "print(res_1)\n",
    "print(res_2)\n",
    "print(res_3)"
   ]
  },
  {
   "cell_type": "markdown",
   "id": "amateur-variable",
   "metadata": {},
   "source": [
    "### Manual method"
   ]
  },
  {
   "cell_type": "code",
   "execution_count": 24,
   "id": "developmental-austria",
   "metadata": {},
   "outputs": [
    {
     "data": {
      "text/plain": [
       "array([[  6,  29, -20],\n",
       "       [ 12,  52,  38],\n",
       "       [-18, -51, -48]])"
      ]
     },
     "execution_count": 24,
     "metadata": {},
     "output_type": "execute_result"
    }
   ],
   "source": [
    "def manual_matrix_mul(matA, matB):\n",
    "    if len(matA) != len(matB[0]):\n",
    "        return 'Can not calculate!!!'\n",
    "    res = 0\n",
    "    lst = []\n",
    "    mat_res = []\n",
    "    for i in range(len(matA)):\n",
    "        for j in range(len(matB[2])):\n",
    "            for k in range(len(matA)):\n",
    "                res += (matA[i, k] * matB[k, j])\n",
    "            lst.append(res)\n",
    "            res = 0\n",
    "        mat_res.append(lst)\n",
    "        lst = []\n",
    "    return np.array(mat_res)\n",
    "\n",
    "manual_matrix_mul(a_ndarray, b_ndarray)"
   ]
  },
  {
   "cell_type": "markdown",
   "id": "separate-vector",
   "metadata": {},
   "source": [
    "### Transpose"
   ]
  },
  {
   "cell_type": "code",
   "execution_count": 27,
   "id": "imposed-handle",
   "metadata": {},
   "outputs": [
    {
     "name": "stdout",
     "output_type": "stream",
     "text": [
      "[[1 2 3]\n",
      " [4 5 6]]\n",
      "[[1 4]\n",
      " [2 5]\n",
      " [3 6]]\n",
      "[[1 4]\n",
      " [2 5]\n",
      " [3 6]]\n"
     ]
    }
   ],
   "source": [
    "list = np.array([[1,2,3],[4,5,6]])\n",
    "print(list)\n",
    "print(list.T)\n",
    "print(np.transpose(list))"
   ]
  }
 ],
 "metadata": {
  "kernelspec": {
   "display_name": "Python 3",
   "language": "python",
   "name": "python3"
  },
  "language_info": {
   "codemirror_mode": {
    "name": "ipython",
    "version": 3
   },
   "file_extension": ".py",
   "mimetype": "text/x-python",
   "name": "python",
   "nbconvert_exporter": "python",
   "pygments_lexer": "ipython3",
   "version": "3.9.1"
  }
 },
 "nbformat": 4,
 "nbformat_minor": 5
}
