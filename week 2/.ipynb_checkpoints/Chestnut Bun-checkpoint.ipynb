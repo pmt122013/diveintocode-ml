{
 "cells": [
  {
   "cell_type": "markdown",
   "id": "tired-davis",
   "metadata": {},
   "source": [
    "# Chestnut Bun Problem\n",
    "### The day when chestnut buns cover the solar system\n",
    "If you sprinkle a single chestnut bun with vine, how long will it take to cover the solar system with chestnut buns? Create a program to calculate this.\n",
    "\n",
    "\n",
    "Make assumptions about the volume of the chestnut buns and the solar system based on your research and calculations. You may simplify the problem by not considering the gap between the chestnut buns and gravity.\n",
    "\n",
    "\n",
    "Create a generic program that can be applied to other situations, such as the time it takes for the Tokyo Dome to fill up when you sprinkle a ball with Byvine."
   ]
  },
  {
   "cell_type": "code",
   "execution_count": 3,
   "id": "statutory-patent",
   "metadata": {},
   "outputs": [],
   "source": [
    "import numpy as np\n",
    "import matplotlib.pyplot as plt\n",
    "import math"
   ]
  },
  {
   "cell_type": "code",
   "execution_count": 11,
   "id": "electrical-reset",
   "metadata": {},
   "outputs": [],
   "source": [
    "PI = math.pi\n",
    "CHESTNUT_VOLUME = (4/3) * PI * (0.00005**3)\n",
    "SOLAR_SYSTEM_VOLUME = (4/3) * PI * (4500000000**3)\n",
    "SUN = 1.409*(10**18)\n",
    "JUPITER = 1.43128*(10**15)\n",
    "SATURN = 8.2713*(10**14)\n",
    "URANUS = 6.833*(10**13)\n",
    "NEPTUNE = 6.254*(10**13)\n",
    "EARTH = 1.08321*(10**12)\n",
    "VENUS = 9.2843*(10**11)\n",
    "MARS = 1.6318*(10**11)\n",
    "MERCURY = 6.083*(10**10)\n",
    "MOON = 2.1958*(10**10)\n",
    "PLUTO = 7.15*(10**9)\n",
    "\n",
    "EMPTY_SOLAR_SYSTEM_VOLUME = SOLAR_SYSTEM_VOLUME - SUN - JUPITER - SATURN \\\n",
    "                                                - URANUS - NEPTUNE - EARTH \\\n",
    "                                                - VENUS - MARS - MERCURY - MOON - PLUTO"
   ]
  },
  {
   "cell_type": "code",
   "execution_count": 100,
   "id": "intermediate-invitation",
   "metadata": {},
   "outputs": [],
   "source": [
    "def find_chestnut_volume(init_volume, target_volume):\n",
    "    new_volume = init_volume\n",
    "    lst = [init_volume]\n",
    "    time_count = 0\n",
    "    while new_volume < target_volume:\n",
    "        new_volume *= 2\n",
    "        lst.append(new_volume)\n",
    "        time_count += 5\n",
    "    return time_count, lst"
   ]
  },
  {
   "cell_type": "code",
   "execution_count": 125,
   "id": "concrete-michael",
   "metadata": {},
   "outputs": [
    {
     "name": "stdout",
     "output_type": "stream",
     "text": [
      "Time needed for chestnut bun to cover the whole Solar system is: 11 hours 40 minutes / 700 minutes\n"
     ]
    }
   ],
   "source": [
    "grow_time, lst = find_chestnut_volume(CHESTNUT_VOLUME, EMPTY_SOLAR_SYSTEM_VOLUME)\n",
    "time_lst = np.arange(0,grow_time+5,5)\n",
    "hour_count = grow_time // 60\n",
    "minute_count = grow_time - hour_count*60\n",
    "print('Time needed for chestnut bun to cover the whole Solar system is:\\\n",
    " {} hours {} minutes / {} minutes'.format(hour_count, minute_count, grow_time))"
   ]
  },
  {
   "cell_type": "markdown",
   "id": "general-projection",
   "metadata": {},
   "source": [
    "### Visualization"
   ]
  },
  {
   "cell_type": "code",
   "execution_count": 111,
   "id": "underlying-perry",
   "metadata": {},
   "outputs": [
    {
     "data": {
      "image/png": "[encoded data removed]",
      "text/plain": [
       "<Figure size 432x288 with 1 Axes>"
      ]
     },
     "metadata": {
      "needs_background": "light"
     },
     "output_type": "display_data"
    }
   ],
   "source": [
    "%matplotlib inline\n",
    "plt.title('Grow process of Chestnut Bun')\n",
    "plt.xlabel('Grow times (minutes)')\n",
    "plt.ylabel('Volume (km^3)')\n",
    "plt.plot(time_lst, lst, marker='o', mfc='yellow', markersize='7', label='Chestnut Bun')\n",
    "plt.hlines(EMPTY_SOLAR_SYSTEM_VOLUME, 0, grow_time,color='r', linestyle='dashdot', label='Empty space of Solar System')\n",
    "plt.legend(loc='best')\n",
    "plt.show()"
   ]
  }
 ],
 "metadata": {
  "kernelspec": {
   "display_name": "Python 3",
   "language": "python",
   "name": "python3"
  },
  "language_info": {
   "codemirror_mode": {
    "name": "ipython",
    "version": 3
   },
   "file_extension": ".py",
   "mimetype": "text/x-python",
   "name": "python",
   "nbconvert_exporter": "python",
   "pygments_lexer": "ipython3",
   "version": "3.9.1"
  }
 },
 "nbformat": 4,
 "nbformat_minor": 5
}
