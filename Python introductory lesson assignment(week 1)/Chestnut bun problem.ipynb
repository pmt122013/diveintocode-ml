{
 "cells": [
  {
   "cell_type": "code",
   "execution_count": 16,
   "metadata": {},
   "outputs": [],
   "source": [
    "import matplotlib.pyplot as plt\n",
    "import math"
   ]
  },
  {
   "cell_type": "markdown",
   "metadata": {},
   "source": [
    "PROBLEM: The day when chestnut buns cover the solar system\n",
    "\n",
    "Consider a Chestnut Bun is nearly spherical with radius of 3 cm (0.035m)\n",
    "Its volume should be: 4/3 * pi * r^{3} = 0.00018 m^3 \n",
    "\n",
    "Consider the distance from the Sun to the farthest planet on Solar system, Neptune is: 4.530.000.000.000.000 meters.\n",
    "\n",
    "Consider Solar system Volume base on given radius is 4/3 * pi * 4530000000000000^{3}"
   ]
  },
  {
   "cell_type": "code",
   "execution_count": 26,
   "metadata": {},
   "outputs": [],
   "source": [
    "PI = math.pi\n",
    "CHESTNUT_VOLUME = 0.00018 #m3\n",
    "SOLAR_SYSTEM_VOLUME =  (4530000000000000^3)* PI*(4/3)\n",
    "\n",
    "TIME_PER_GROWTH = 5*60 #s"
   ]
  },
  {
   "cell_type": "code",
   "execution_count": 42,
   "metadata": {},
   "outputs": [
    {
     "name": "stdout",
     "output_type": "stream",
     "text": [
      "Enter your small object volume in [m^3]: 1\n",
      "Enter your big object volume in [m^3]: 200\n",
      "The object doubled 8 times\n",
      "Time for obj to fill the bigger volume obj is: 2400 s\n",
      "Time for obj to fill the bigger volume obj is: 40 mins\n",
      "Time for obj to fill the bigger volume obj is: 1 days\n"
     ]
    },
    {
     "data": {
      "image/png": "[encoded data removed]",
      "text/plain": [
       "<Figure size 432x288 with 1 Axes>"
      ]
     },
     "metadata": {
      "needs_background": "light"
     },
     "output_type": "display_data"
    }
   ],
   "source": [
    "def compute_time_to_reach_size(small_obj_vol, big_obj_vol):\n",
    "    grow_times = 0\n",
    "    vol_list = [small_obj_vol]\n",
    "    \n",
    "    while vol_list[-1] < big_obj_vol:\n",
    "        vol_list.append(vol_list[-1]*2)\n",
    "        grow_times += 1\n",
    "        \n",
    "    second_to_reach_size = (grow_times * TIME_PER_GROWTH) \n",
    "    day_to_reach_size = second_to_reach_size/86400   # a day = 86 400 seconds\n",
    "    \n",
    "    return grow_times, second_to_reach_size, day_to_reach_size, vol_list\n",
    "\n",
    "\n",
    "small_obj_vol = int(input(\"Enter your small object volume in [m^3]: \"))\n",
    "big_obj_vol = int(input(\"Enter your big object volume in [m^3]: \"))\n",
    "\n",
    "#grow_times, second_to_reach_size, day_to_reach_size, vol_list = compute_time_to_reach_size(CHESTNUT_VOLUME, SOLAR_SYSTEM_VOLUME)\n",
    "grow_times, second_to_reach_size, day_to_reach_size, vol_list = compute_time_to_reach_size(small_obj_vol, big_obj_vol)\n",
    "\n",
    "mins_to_reach_size = math.ceil(second_to_reach_size/60)\n",
    "\n",
    "txt = \"The object doubled {} times\"\n",
    "txt1 = \"Time for obj to fill the bigger volume obj is: {} s\"\n",
    "txt2 = \"Time for obj to fill the bigger volume obj is: {} mins\"\n",
    "txt3 = \"Time for obj to fill the bigger volume obj is: {} days\"\n",
    "\n",
    "print(txt.format(grow_times))\n",
    "print(txt1.format(second_to_reach_size))\n",
    "print(txt2.format(mins_to_reach_size))\n",
    "print(txt3.format(math.ceil(day_to_reach_size))) \n",
    "\n",
    "plt.title(\"Volume for small object to reach the size of bigger object\")\n",
    "plt.xlabel(\"Minutes\")\n",
    "plt.ylabel(\"Volume[m^3]\")\n",
    "plt.plot(range(0, mins_to_reach_size + 5, 5), vol_list, label =\"object volume\", marker =\"o\")\n",
    "plt.hlines(big_obj_vol, 0, mins_to_reach_size, \"red\", linestyles= \"dashed\", label = \"space\")\n",
    "plt.legend(loc=\"best\")\n",
    "plt.show()\n",
    "\n",
    "\n"
   ]
  },
  {
   "cell_type": "code",
   "execution_count": null,
   "metadata": {},
   "outputs": [],
   "source": []
  }
 ],
 "metadata": {
  "kernelspec": {
   "display_name": "Python 3",
   "language": "python",
   "name": "python3"
  },
  "language_info": {
   "codemirror_mode": {
    "name": "ipython",
    "version": 3
   },
   "file_extension": ".py",
   "mimetype": "text/x-python",
   "name": "python",
   "nbconvert_exporter": "python",
   "pygments_lexer": "ipython3",
   "version": "3.8.5"
  }
 },
 "nbformat": 4,
 "nbformat_minor": 4
}
