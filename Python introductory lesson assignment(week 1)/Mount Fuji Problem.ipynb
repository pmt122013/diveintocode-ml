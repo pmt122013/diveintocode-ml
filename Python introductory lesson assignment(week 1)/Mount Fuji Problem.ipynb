{
 "cells": [
  {
   "cell_type": "code",
   "execution_count": 37,
   "metadata": {},
   "outputs": [],
   "source": [
    "import matplotlib.pyplot as plt\n",
    "import math\n",
    "\n",
    "MT_FUJI_HEIGHT = 3776 #m\n",
    "PPOXIMA_CENTAURI_STAR_TO_EARTH = 4243*9460730472580800 #LIGHTYEAR * METET, UNIT IS METER\n",
    "MOON_TO_EARTH = 384400000 #m \n",
    "THICKNESS = 0.00008 #m\n",
    "\n",
    "PI = math.pi"
   ]
  },
  {
   "cell_type": "markdown",
   "metadata": {},
   "source": [
    "# Problem 1: Minimum number of folds over Mt. Fuji"
   ]
  },
  {
   "cell_type": "code",
   "execution_count": 26,
   "metadata": {},
   "outputs": [
    {
     "name": "stdout",
     "output_type": "stream",
     "text": [
      "Number of folds needed to reach Mount Fuji is: 26 folds\n"
     ]
    }
   ],
   "source": [
    "def number_of_folds_to_reach_fuji(distance):\n",
    "    paper_thickness = THICKNESS\n",
    "    fold_times = 0\n",
    "    while paper_thickness < distance:\n",
    "        paper_thickness *= 2\n",
    "        fold_time += 1\n",
    "    return fold_times\n",
    "\n",
    "print(\"Number of folds needed to reach Mount Fuji is: {} folds\".format(number_of_folds_to_reach_fuji(MT_FUJI_HEIGHT)))\n",
    "    "
   ]
  },
  {
   "cell_type": "markdown",
   "metadata": {},
   "source": [
    "# Problem 2:  Creating a function corresponding to an arbitrary thickness"
   ]
  },
  {
   "cell_type": "code",
   "execution_count": 40,
   "metadata": {},
   "outputs": [
    {
     "name": "stdout",
     "output_type": "stream",
     "text": [
      "Enter your distance in meters: 20\n",
      "Number of folds needed to reach 20 m is: 18 folds\n",
      "Number of folds needed to reach the closest star to the sun, from Earth, is: 40141879395160334400 folds\n"
     ]
    }
   ],
   "source": [
    "def count_number_of_fold(distance):\n",
    "    paper_thickness = THICKNESS\n",
    "    fold_times = 0\n",
    "    while paper_thickness < distance:\n",
    "        paper_thickness *= 2\n",
    "        fold_times += 1\n",
    "    return fold_times\n",
    "\n",
    "distance = int(input(\"Enter your distance in meters: \"))\n",
    "txt = \"Number of folds needed to reach the closest star to the sun, from Earth, is: {} folds\"\n",
    "\n",
    "print(\"Number of folds needed to reach {} m is: {} folds\".format(distance, count_number_of_fold(distance)))\n",
    "print(txt.format(PPOXIMA_CENTAURI_STAR_TO_EARTH, count_number_of_fold(PPOXIMA_CENTAURI_STAR_TO_EARTH)))\n",
    "    "
   ]
  },
  {
   "cell_type": "markdown",
   "metadata": {},
   "source": [
    "# Problem 3:  Required paper length for folding "
   ]
  },
  {
   "cell_type": "code",
   "execution_count": 42,
   "metadata": {},
   "outputs": [
    {
     "name": "stdout",
     "output_type": "stream",
     "text": [
      "Enter your distance in meters: 30\n",
      "Required paper length to reach 30 is: 11514124.72499774 m\n",
      "Required paper length to reach Moon is: 3.240919444170781e+21 m\n",
      "Required paper length to reach Mt Fuji is: 188646348487.24017 m\n",
      "Required paper length to reach the closest star to the sun is: 1.5304809356827398e+43 m\n"
     ]
    }
   ],
   "source": [
    "def estimate_paper_length(distance):\n",
    "    fold_times = count_number_of_fold(distance)\n",
    "    paper_lenght = (PI *(THICKNESS/6)) * ((2**fold_times) + 4) * ((2**fold_times) -1)\n",
    "    \n",
    "    return paper_lenght\n",
    "\n",
    "distance = int(input(\"Enter your distance in meters: \"))\n",
    "\n",
    "print(\"Required paper length to reach {} is: {} m\".format(distance, estimate_paper_length(distance)))\n",
    "print(\"Required paper length to reach Moon is: {} m\".format(estimate_paper_length(MOON_TO_EARTH)))\n",
    "print(\"Required paper length to reach Mt Fuji is: {} m\".format(estimate_paper_length(MT_FUJI_HEIGHT)))\n",
    "print(\"Required paper length to reach the closest star to the sun is: {} m\".format(estimate_paper_length(PPOXIMA_CENTAURI_STAR_TO_EARTH)))\n"
   ]
  },
  {
   "cell_type": "code",
   "execution_count": null,
   "metadata": {},
   "outputs": [],
   "source": []
  }
 ],
 "metadata": {
  "kernelspec": {
   "display_name": "Python 3",
   "language": "python",
   "name": "python3"
  },
  "language_info": {
   "codemirror_mode": {
    "name": "ipython",
    "version": 3
   },
   "file_extension": ".py",
   "mimetype": "text/x-python",
   "name": "python",
   "nbconvert_exporter": "python",
   "pygments_lexer": "ipython3",
   "version": "3.8.5"
  }
 },
 "nbformat": 4,
 "nbformat_minor": 4
}
