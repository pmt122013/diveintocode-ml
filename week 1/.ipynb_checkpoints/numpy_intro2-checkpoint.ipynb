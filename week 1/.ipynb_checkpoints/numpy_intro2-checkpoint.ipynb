{
 "cells": [
  {
   "cell_type": "markdown",
   "metadata": {},
   "source": [
    "# Introduction to numpy 2"
   ]
  },
  {
   "cell_type": "code",
   "execution_count": 1,
   "metadata": {},
   "outputs": [],
   "source": [
    "import numpy as np"
   ]
  },
  {
   "cell_type": "markdown",
   "metadata": {},
   "source": [
    "### Element retrieval"
   ]
  },
  {
   "cell_type": "code",
   "execution_count": 2,
   "metadata": {},
   "outputs": [
    {
     "name": "stdout",
     "output_type": "stream",
     "text": [
      "3\n",
      "[0 1 2]\n",
      "9\n",
      "[0 2 4 6 8]\n",
      "[9 8 7 6 5 4 3 2 1 0]\n"
     ]
    }
   ],
   "source": [
    "sample_ndarray = np.arange(10)\n",
    "print(sample_ndarray[3])\n",
    "print(sample_ndarray[:3])\n",
    "print(sample_ndarray[-1])\n",
    "print(sample_ndarray[::2])\n",
    "print(sample_ndarray[::-1]) # reversed array"
   ]
  },
  {
   "cell_type": "markdown",
   "metadata": {},
   "source": [
    "### Transforming the shape"
   ]
  },
  {
   "cell_type": "code",
   "execution_count": 4,
   "metadata": {},
   "outputs": [
    {
     "name": "stdout",
     "output_type": "stream",
     "text": [
      "[0 1 2 3]\n",
      "(4,)\n",
      "[[0 1]\n",
      " [2 3]]\n",
      "(2, 2)\n"
     ]
    }
   ],
   "source": [
    "a_ndarray = np.arange(4)\n",
    "print(a_ndarray)\n",
    "print(a_ndarray.shape)\n",
    "b_ndarray = a_ndarray.reshape(2, 2)\n",
    "print(b_ndarray)\n",
    "print(b_ndarray.shape)"
   ]
  },
  {
   "cell_type": "markdown",
   "metadata": {},
   "source": [
    "### Extraction of elements in multiple dimensions"
   ]
  },
  {
   "cell_type": "code",
   "execution_count": 8,
   "metadata": {},
   "outputs": [
    {
     "name": "stdout",
     "output_type": "stream",
     "text": [
      "[[0 1 2]\n",
      " [3 4 5]]\n",
      "2\n",
      "[[1 2]\n",
      " [4 5]]\n"
     ]
    }
   ],
   "source": [
    "sample_ndarray = np.arange(6).reshape(2, 3)\n",
    "print(sample_ndarray)\n",
    "print(sample_ndarray[0, 2])\n",
    "print(sample_ndarray[:, 1:])"
   ]
  },
  {
   "cell_type": "markdown",
   "metadata": {},
   "source": [
    "### Average or sum"
   ]
  },
  {
   "cell_type": "code",
   "execution_count": 10,
   "metadata": {},
   "outputs": [
    {
     "name": "stdout",
     "output_type": "stream",
     "text": [
      "Shape is (2, 3)\n",
      "The total value is 15\n",
      "The total in the 0th axial direction is [3 5 7]\n",
      "The average in the first axial direction is [1. 4.]\n"
     ]
    }
   ],
   "source": [
    "a_ndarray = np.arange(6)\n",
    "b_ndarray = a_ndarray.reshape(2, 3)\n",
    "print(\"Shape is {}\".format(b_ndarray.shape))\n",
    "print(\"The total value is {}\".format(b_ndarray.sum()))\n",
    "print(\"The total in the 0th axial direction is {}\".format(b_ndarray.sum(axis=0)))\n",
    "print(\"The average in the first axial direction is {}\".format(b_ndarray.mean(axis=1)))"
   ]
  }
 ],
 "metadata": {
  "kernelspec": {
   "display_name": "Python 3",
   "language": "python",
   "name": "python3"
  },
  "language_info": {
   "codemirror_mode": {
    "name": "ipython",
    "version": 3
   },
   "file_extension": ".py",
   "mimetype": "text/x-python",
   "name": "python",
   "nbconvert_exporter": "python",
   "pygments_lexer": "ipython3",
   "version": "3.9.1"
  }
 },
 "nbformat": 4,
 "nbformat_minor": 2
}
