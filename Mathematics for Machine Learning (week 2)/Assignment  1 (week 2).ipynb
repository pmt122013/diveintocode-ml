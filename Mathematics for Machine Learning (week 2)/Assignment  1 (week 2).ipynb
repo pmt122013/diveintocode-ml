{
 "cells": [
  {
   "cell_type": "code",
   "execution_count": 87,
   "metadata": {},
   "outputs": [],
   "source": [
    "import numpy as np\n",
    "import matplotlib.pyplot as plt\n",
    "import math"
   ]
  },
  {
   "cell_type": "markdown",
   "metadata": {},
   "source": [
    "# Problem 1 - 2:\n",
    "\n",
    "In Pronlem 1: We create a linear function\n",
    "In Problem 2: We turn that ndarray into shape (1001, 2)"
   ]
  },
  {
   "cell_type": "code",
   "execution_count": 88,
   "metadata": {},
   "outputs": [
    {
     "name": "stdout",
     "output_type": "stream",
     "text": [
      "Created ndarray: \n",
      "[[-50.   -24.  ]\n",
      " [-49.9  -23.95]\n",
      " [-49.8  -23.9 ]\n",
      " ...\n",
      " [ 49.8   25.9 ]\n",
      " [ 49.9   25.95]\n",
      " [ 50.    26.  ]]\n",
      "ndarray shape: (1001, 2)\n"
     ]
    }
   ],
   "source": [
    "def cal_function(x_ndarray):\n",
    "    y_ndarray = 0.5*x_ndarray + 1\n",
    "    return y_ndarray\n",
    "\n",
    "a_ndarray = np.arange(-50, 50.1, 0.1)\n",
    "a_ndarray = np.concatenate([a_ndarray, cal_function(a_ndarray)])\n",
    "a_ndarray = a_ndarray.reshape(2, 1001).T\n",
    "print(\"Created ndarray: \\n{}\".format(a_ndarray))\n",
    "print(\"ndarray shape: {}\".format(a_ndarray.shape))"
   ]
  },
  {
   "cell_type": "markdown",
   "metadata": {},
   "source": [
    "# Problem 3: Find the Gradient"
   ]
  },
  {
   "cell_type": "code",
   "execution_count": 89,
   "metadata": {},
   "outputs": [
    {
     "name": "stdout",
     "output_type": "stream",
     "text": [
      "Our gradient ndarray: \n",
      " [2. 2. 2. 2. 2. 2. 2. 2. 2. 2. 2. 2. 2. 2. 2. 2. 2. 2. 2. 2. 2. 2. 2. 2.\n",
      " 2. 2. 2. 2. 2. 2. 2. 2. 2. 2. 2. 2. 2. 2. 2. 2. 2. 2. 2. 2. 2. 2. 2. 2.\n",
      " 2. 2. 2. 2. 2. 2. 2. 2. 2. 2. 2. 2. 2. 2. 2. 2. 2. 2. 2. 2. 2. 2. 2. 2.\n",
      " 2. 2. 2. 2. 2. 2. 2. 2. 2. 2. 2. 2. 2. 2. 2. 2. 2. 2. 2. 2. 2. 2. 2. 2.\n",
      " 2. 2. 2. 2. 2. 2. 2. 2. 2. 2. 2. 2. 2. 2. 2. 2. 2. 2. 2. 2. 2. 2. 2. 2.\n",
      " 2. 2. 2. 2. 2. 2. 2. 2. 2. 2. 2. 2. 2. 2. 2. 2. 2. 2. 2. 2. 2. 2. 2. 2.\n",
      " 2. 2. 2. 2. 2. 2. 2. 2. 2. 2. 2. 2. 2. 2. 2. 2. 2. 2. 2. 2. 2. 2. 2. 2.\n",
      " 2. 2. 2. 2. 2. 2. 2. 2. 2. 2. 2. 2. 2. 2. 2. 2. 2. 2. 2. 2. 2. 2. 2. 2.\n",
      " 2. 2. 2. 2. 2. 2. 2. 2. 2. 2. 2. 2. 2. 2. 2. 2. 2. 2. 2. 2. 2. 2. 2. 2.\n",
      " 2. 2. 2. 2. 2. 2. 2. 2. 2. 2. 2. 2. 2. 2. 2. 2. 2. 2. 2. 2. 2. 2. 2. 2.\n",
      " 2. 2. 2. 2. 2. 2. 2. 2. 2. 2. 2. 2. 2. 2. 2. 2. 2. 2. 2. 2. 2. 2. 2. 2.\n",
      " 2. 2. 2. 2. 2. 2. 2. 2. 2. 2. 2. 2. 2. 2. 2. 2. 2. 2. 2. 2. 2. 2. 2. 2.\n",
      " 2. 2. 2. 2. 2. 2. 2. 2. 2. 2. 2. 2. 2. 2. 2. 2. 2. 2. 2. 2. 2. 2. 2. 2.\n",
      " 2. 2. 2. 2. 2. 2. 2. 2. 2. 2. 2. 2. 2. 2. 2. 2. 2. 2. 2. 2. 2. 2. 2. 2.\n",
      " 2. 2. 2. 2. 2. 2. 2. 2. 2. 2. 2. 2. 2. 2. 2. 2. 2. 2. 2. 2. 2. 2. 2. 2.\n",
      " 2. 2. 2. 2. 2. 2. 2. 2. 2. 2. 2. 2. 2. 2. 2. 2. 2. 2. 2. 2. 2. 2. 2. 2.\n",
      " 2. 2. 2. 2. 2. 2. 2. 2. 2. 2. 2. 2. 2. 2. 2. 2. 2. 2. 2. 2. 2. 2. 2. 2.\n",
      " 2. 2. 2. 2. 2. 2. 2. 2. 2. 2. 2. 2. 2. 2. 2. 2. 2. 2. 2. 2. 2. 2. 2. 2.\n",
      " 2. 2. 2. 2. 2. 2. 2. 2. 2. 2. 2. 2. 2. 2. 2. 2. 2. 2. 2. 2. 2. 2. 2. 2.\n",
      " 2. 2. 2. 2. 2. 2. 2. 2. 2. 2. 2. 2. 2. 2. 2. 2. 2. 2. 2. 2. 2. 2. 2. 2.\n",
      " 2. 2. 2. 2. 2. 2. 2. 2. 2. 2. 2. 2. 2. 2. 2. 2. 2. 2. 2. 2. 2. 2. 2. 2.\n",
      " 2. 2. 2. 2. 2. 2. 2. 2. 2. 2. 2. 2. 2. 2. 2. 2. 2. 2. 2. 2. 2. 2. 2. 2.\n",
      " 2. 2. 2. 2. 2. 2. 2. 2. 2. 2. 2. 2. 2. 2. 2. 2. 2. 2. 2. 2. 2. 2. 2. 2.\n",
      " 2. 2. 2. 2. 2. 2. 2. 2. 2. 2. 2. 2. 2. 2. 2. 2. 2. 2. 2. 2. 2. 2. 2. 2.\n",
      " 2. 2. 2. 2. 2. 2. 2. 2. 2. 2. 2. 2. 2. 2. 2. 2. 2. 2. 2. 2. 2. 2. 2. 2.\n",
      " 2. 2. 2. 2. 2. 2. 2. 2. 2. 2. 2. 2. 2. 2. 2. 2. 2. 2. 2. 2. 2. 2. 2. 2.\n",
      " 2. 2. 2. 2. 2. 2. 2. 2. 2. 2. 2. 2. 2. 2. 2. 2. 2. 2. 2. 2. 2. 2. 2. 2.\n",
      " 2. 2. 2. 2. 2. 2. 2. 2. 2. 2. 2. 2. 2. 2. 2. 2. 2. 2. 2. 2. 2. 2. 2. 2.\n",
      " 2. 2. 2. 2. 2. 2. 2. 2. 2. 2. 2. 2. 2. 2. 2. 2. 2. 2. 2. 2. 2. 2. 2. 2.\n",
      " 2. 2. 2. 2. 2. 2. 2. 2. 2. 2. 2. 2. 2. 2. 2. 2. 2. 2. 2. 2. 2. 2. 2. 2.\n",
      " 2. 2. 2. 2. 2. 2. 2. 2. 2. 2. 2. 2. 2. 2. 2. 2. 2. 2. 2. 2. 2. 2. 2. 2.\n",
      " 2. 2. 2. 2. 2. 2. 2. 2. 2. 2. 2. 2. 2. 2. 2. 2. 2. 2. 2. 2. 2. 2. 2. 2.\n",
      " 2. 2. 2. 2. 2. 2. 2. 2. 2. 2. 2. 2. 2. 2. 2. 2. 2. 2. 2. 2. 2. 2. 2. 2.\n",
      " 2. 2. 2. 2. 2. 2. 2. 2. 2. 2. 2. 2. 2. 2. 2. 2. 2. 2. 2. 2. 2. 2. 2. 2.\n",
      " 2. 2. 2. 2. 2. 2. 2. 2. 2. 2. 2. 2. 2. 2. 2. 2. 2. 2. 2. 2. 2. 2. 2. 2.\n",
      " 2. 2. 2. 2. 2. 2. 2. 2. 2. 2. 2. 2. 2. 2. 2. 2. 2. 2. 2. 2. 2. 2. 2. 2.\n",
      " 2. 2. 2. 2. 2. 2. 2. 2. 2. 2. 2. 2. 2. 2. 2. 2. 2. 2. 2. 2. 2. 2. 2. 2.\n",
      " 2. 2. 2. 2. 2. 2. 2. 2. 2. 2. 2. 2. 2. 2. 2. 2. 2. 2. 2. 2. 2. 2. 2. 2.\n",
      " 2. 2. 2. 2. 2. 2. 2. 2. 2. 2. 2. 2. 2. 2. 2. 2. 2. 2. 2. 2. 2. 2. 2. 2.\n",
      " 2. 2. 2. 2. 2. 2. 2. 2. 2. 2. 2. 2. 2. 2. 2. 2. 2. 2. 2. 2. 2. 2. 2. 2.\n",
      " 2. 2. 2. 2. 2. 2. 2. 2. 2. 2. 2. 2. 2. 2. 2. 2. 2. 2. 2. 2. 2. 2. 2. 2.\n",
      " 2. 2. 2. 2. 2. 2. 2. 2. 2. 2. 2. 2. 2. 2. 2. 2.]\n"
     ]
    }
   ],
   "source": [
    "\n",
    "dxy = a_ndarray[1:] - a_ndarray[:-1]\n",
    "gradient = dxy[:, 0] / dxy[:, 1]\n",
    "\n",
    "print(\"Our gradient ndarray: \\n {}\".format(gradient))"
   ]
  },
  {
   "cell_type": "markdown",
   "metadata": {},
   "source": [
    "# Problem 4: Draw a graph"
   ]
  },
  {
   "cell_type": "code",
   "execution_count": 90,
   "metadata": {},
   "outputs": [
    {
     "data": {
      "image/png": "[encoded data removed]",
      "text/plain": [
       "<Figure size 432x288 with 1 Axes>"
      ]
     },
     "metadata": {
      "needs_background": "light"
     },
     "output_type": "display_data"
    }
   ],
   "source": [
    "plt.title(\"Gradient at each point, y = 0.5*x + 1\")\n",
    "plt.xlabel(\"x value\")\n",
    "plt.ylabel(\"gradient\")\n",
    "plt.plot(a_ndarray[:-1,0], gradient)\n",
    "plt.show()"
   ]
  },
  {
   "cell_type": "markdown",
   "metadata": {},
   "source": [
    "# Problem 5: Python functionalization "
   ]
  },
  {
   "cell_type": "code",
   "execution_count": 91,
   "metadata": {},
   "outputs": [],
   "source": [
    "def compute_gradient(function, x_range = (-50, 50, 0.1)):\n",
    "    y_length = int(((x_range[1] - x_range[0])/ x_range[2]) + 1)\n",
    "    x_ndarray = np.arange(x_range[0], x_range[1] + x_range[2], x_range[2])\n",
    "    xy_ndarray = np.concatenate([x_ndarray, function(x_ndarray)])\n",
    "    xy_ndarray = xy_ndarray.reshape(2, y_length).T\n",
    "    \n",
    "    dxy = xy_ndarray[1:] - xy_ndarray[:-1]\n",
    "    gradient = dxy[:, 0] / dxy[:, 1]    \n",
    "    \n",
    "    return xy_ndarray, gradient\n",
    "\n",
    "\n",
    "# y = x^2    \n",
    "def function1(x_ndarray):\n",
    "    y_ndarray = x_ndarray**2\n",
    "    return y_ndarray\n",
    "\n",
    "# y = 2x^(2) + 2^(x)\n",
    "def function2(x_ndarray):\n",
    "    y_ndarray = 2*(x_ndarray**2) + 2**x_ndarray\n",
    "    return y_ndarray\n",
    "\n",
    "# y = sin(x^(1/2))\n",
    "def function3(x_ndarray):    \n",
    "    y_ndarray = np.sin(x_ndarray**(1/2))\n",
    "    return y_ndarray\n"
   ]
  },
  {
   "cell_type": "markdown",
   "metadata": {},
   "source": [
    "Graph, ndarray of function 1:\n",
    "$ y = x^{2}$"
   ]
  },
  {
   "cell_type": "code",
   "execution_count": 92,
   "metadata": {},
   "outputs": [
    {
     "name": "stdout",
     "output_type": "stream",
     "text": [
      "ndarray of function 1: \n",
      " [[ -50.   2500.  ]\n",
      " [ -49.9  2490.01]\n",
      " [ -49.8  2480.04]\n",
      " ...\n",
      " [  49.8  2480.04]\n",
      " [  49.9  2490.01]\n",
      " [  50.   2500.  ]]\n"
     ]
    },
    {
     "data": {
      "image/png": "[encoded data removed]",
      "text/plain": [
       "<Figure size 432x288 with 1 Axes>"
      ]
     },
     "metadata": {
      "needs_background": "light"
     },
     "output_type": "display_data"
    }
   ],
   "source": [
    "xy_ndarray_1, gradient_1 = compute_gradient(function = function1, x_range = (-50, 50, 0.1))\n",
    "print(\"ndarray of function 1: \\n {}\".format(xy_ndarray_1))\n",
    "\n",
    "plt.title(\"Gradient at each point, y = x^2\")\n",
    "plt.xlabel(\"x value\")\n",
    "plt.ylabel(\"gradient\")\n",
    "plt.plot(xy_ndarray_1[:-1, 0], gradient_1, label = \"gradient\")\n",
    "plt.legend(loc=\"best\")\n",
    "plt.show()\n"
   ]
  },
  {
   "cell_type": "markdown",
   "metadata": {},
   "source": [
    "Graph, ndarray of function 2: $y = 2 \\times x^{2} + 2^{x}$"
   ]
  },
  {
   "cell_type": "code",
   "execution_count": 93,
   "metadata": {},
   "outputs": [
    {
     "name": "stdout",
     "output_type": "stream",
     "text": [
      "ndarray of function 2: \n",
      " [[-5.00000000e+01  5.00000000e+03]\n",
      " [-4.99000000e+01  4.98002000e+03]\n",
      " [-4.98000000e+01  4.96008000e+03]\n",
      " ...\n",
      " [ 4.98000000e+01  9.80152798e+14]\n",
      " [ 4.99000000e+01  1.05050176e+15]\n",
      " [ 5.00000000e+01  1.12589991e+15]]\n"
     ]
    },
    {
     "data": {
      "image/png": "[encoded data removed]",
      "text/plain": [
       "<Figure size 432x288 with 1 Axes>"
      ]
     },
     "metadata": {
      "needs_background": "light"
     },
     "output_type": "display_data"
    }
   ],
   "source": [
    "xy_ndarray_2, gradient_2 = compute_gradient(function = function2, x_range = (-50, 50, 0.1))\n",
    "\n",
    "print(\"ndarray of function 2: \\n {}\".format(xy_ndarray_2))\n",
    "\n",
    "plt.title(\"Gradient at each point, y = 2*x^2 + 2^x\")\n",
    "plt.xlabel(\"x value\")\n",
    "plt.ylabel(\"gradient\")\n",
    "plt.plot(xy_ndarray_2[:-1, 0], gradient_2, label = \"gradient\")\n",
    "plt.legend(loc=\"best\")\n",
    "plt.show()"
   ]
  },
  {
   "cell_type": "markdown",
   "metadata": {},
   "source": [
    "Graph, ndarray of function 3: $ y = \\sin\\left( x^{\\frac{1}{2}}\\right)$"
   ]
  },
  {
   "cell_type": "code",
   "execution_count": 94,
   "metadata": {},
   "outputs": [
    {
     "name": "stdout",
     "output_type": "stream",
     "text": [
      "ndarray of function 3: \n",
      " [[ 0.          0.        ]\n",
      " [ 0.1         0.31098359]\n",
      " [ 0.2         0.43245484]\n",
      " ...\n",
      " [49.8         0.69880548]\n",
      " [49.9         0.70385354]\n",
      " [50.          0.70886129]]\n"
     ]
    },
    {
     "data": {
      "image/png": "[encoded data removed]",
      "text/plain": [
       "<Figure size 432x288 with 1 Axes>"
      ]
     },
     "metadata": {
      "needs_background": "light"
     },
     "output_type": "display_data"
    }
   ],
   "source": [
    "xy_ndarray_3, gradient_3 = compute_gradient(function = function3, x_range = (0, 50, 0.1))\n",
    "\n",
    "print(\"ndarray of function 3: \\n {}\".format(xy_ndarray_3))\n",
    "\n",
    "plt.title(\"Gradient at each point, y = sin(x^(1/2))\")\n",
    "plt.xlabel(\"x value\")\n",
    "plt.ylabel(\"gradient\")\n",
    "plt.plot(xy_ndarray_3[:-1, 0], gradient_3, label = \"gradient\")\n",
    "plt.legend(loc=\"best\")\n",
    "plt.show()"
   ]
  },
  {
   "cell_type": "markdown",
   "metadata": {},
   "source": [
    "# Problem 6: Find the minium value"
   ]
  },
  {
   "cell_type": "code",
   "execution_count": 95,
   "metadata": {},
   "outputs": [
    {
     "name": "stdout",
     "output_type": "stream",
     "text": [
      "Minimun value of function 1: 5.048709793414476e-25\n",
      "---The slope before min value: -0.09999999999858175 \n",
      "---The slope before min value: 0.10000000000142392\n",
      "-----------------------------------------------------\n",
      "Minimun value of function 2: 0.9505505632959851\n",
      "---The slope before min value: -0.41701833059800575 \n",
      "---The slope before min value: 0.024824282409973142\n",
      "-----------------------------------------------------\n",
      "Minimun value of function 3: -0.9999997540298113\n",
      "---The slope before min value: -0.0006388422559544527 \n",
      "---The slope before min value: 0.000487447793066087\n"
     ]
    }
   ],
   "source": [
    "def find_min(xy_ndarray, gradient):\n",
    "    y_min = xy_ndarray[:, 1].min()\n",
    "\n",
    "    for i in range(xy_ndarray[:, 1].size):\n",
    "        if xy_ndarray[i, 1] ==  y_min:\n",
    "            pre_slope = (xy_ndarray[i, 1] - xy_ndarray[i-1, 1])/0.1\n",
    "            post_slope= (xy_ndarray[i + 1, 1] - xy_ndarray[i, 1])/0.1\n",
    "    return y_min, pre_slope, post_slope        \n",
    "            \n",
    "y_min_1, pre_slope_1, post_slope_1 = find_min(xy_ndarray_1, gradient_1)\n",
    "y_min_2, pre_slope_2, post_slope_2 = find_min(xy_ndarray_2, gradient_2) \n",
    "y_min_3, pre_slope_3, post_slope_3 = find_min(xy_ndarray_3, gradient_3)\n",
    "\n",
    "print(\"Minimun value of function 1: {}\".format(y_min_1))\n",
    "print(\"---The slope before min value: {} \\n---The slope before min value: {}\".format(pre_slope_1, post_slope_1))\n",
    "print(\"-----------------------------------------------------\")\n",
    "print(\"Minimun value of function 2: {}\".format(y_min_2))\n",
    "print(\"---The slope before min value: {} \\n---The slope before min value: {}\".format(pre_slope_2, post_slope_2))\n",
    "print(\"-----------------------------------------------------\")\n",
    "print(\"Minimun value of function 3: {}\".format(y_min_3))\n",
    "print(\"---The slope before min value: {} \\n---The slope before min value: {}\".format(pre_slope_3, post_slope_3))\n"
   ]
  },
  {
   "cell_type": "code",
   "execution_count": null,
   "metadata": {},
   "outputs": [],
   "source": []
  }
 ],
 "metadata": {
  "kernelspec": {
   "display_name": "Python 3",
   "language": "python",
   "name": "python3"
  },
  "language_info": {
   "codemirror_mode": {
    "name": "ipython",
    "version": 3
   },
   "file_extension": ".py",
   "mimetype": "text/x-python",
   "name": "python",
   "nbconvert_exporter": "python",
   "pygments_lexer": "ipython3",
   "version": "3.8.5"
  }
 },
 "nbformat": 4,
 "nbformat_minor": 4
}
