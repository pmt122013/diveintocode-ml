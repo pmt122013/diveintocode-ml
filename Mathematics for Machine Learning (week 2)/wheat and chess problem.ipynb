{
 "cells": [
  {
   "cell_type": "code",
   "execution_count": 68,
   "metadata": {},
   "outputs": [
    {
     "name": "stdout",
     "output_type": "stream",
     "text": [
      "Arrange wheat on a plate of 4 squares (list)：[1, 2, 4, 8]\n",
      "Arrange wheat on a plate of 4 squares (ndarray)：[1 2 4 8]\n"
     ]
    }
   ],
   "source": [
    "import numpy as np\n",
    "import matplotlib.pyplot as plt\n",
    "import time\n",
    "%matplotlib inline\n",
    "\n",
    "\n",
    "n_squares = 4\n",
    "small_board_list = [1]\n",
    "for i in range(n_squares - 1):\n",
    "    small_board_list.append(2*small_board_list[-1])\n",
    "    \n",
    "print(\"Arrange wheat on a plate of 4 squares (list)：{}\".format(small_board_list))\n",
    "small_board_ndarray = np.array(small_board_list)\n",
    "print(\"Arrange wheat on a plate of 4 squares (ndarray)：{}\".format(small_board_ndarray))\n",
    "\n",
    "\n"
   ]
  },
  {
   "cell_type": "markdown",
   "metadata": {},
   "source": [
    "# Problem 1: Number of wheat on a 2 x 2 square chess board"
   ]
  },
  {
   "cell_type": "code",
   "execution_count": 10,
   "metadata": {},
   "outputs": [
    {
     "name": "stdout",
     "output_type": "stream",
     "text": [
      "Arrange wheat on a plate of 2 x 2 squares (ndarray)：\n",
      " [[1 2]\n",
      " [4 8]]\n"
     ]
    }
   ],
   "source": [
    "def wheat_2_2_square(small_board_ndarray):\n",
    "    small_board_ndarray = small_board_ndarray.reshape(2,2) \n",
    "    return small_board_ndarray\n",
    "\n",
    "print(\"Arrange wheat on a plate of 2 x 2 squares (ndarray)：\\n {}\".format(wheat_2_2_square(small_board_ndarray)))\n"
   ]
  },
  {
   "cell_type": "markdown",
   "metadata": {},
   "source": [
    "# Problem 2:Expansion to n × m mass"
   ]
  },
  {
   "cell_type": "code",
   "execution_count": 56,
   "metadata": {},
   "outputs": [
    {
     "name": "stdout",
     "output_type": "stream",
     "text": [
      "Arrange wheat on a plate of 8 x 8 squares (ndarray)：\n",
      " [[                  1                   2                   4\n",
      "                    8                  16                  32\n",
      "                   64                 128]\n",
      " [                256                 512                1024\n",
      "                 2048                4096                8192\n",
      "                16384               32768]\n",
      " [              65536              131072              262144\n",
      "               524288             1048576             2097152\n",
      "              4194304             8388608]\n",
      " [           16777216            33554432            67108864\n",
      "            134217728           268435456           536870912\n",
      "           1073741824          2147483648]\n",
      " [         4294967296          8589934592         17179869184\n",
      "          34359738368         68719476736        137438953472\n",
      "         274877906944        549755813888]\n",
      " [      1099511627776       2199023255552       4398046511104\n",
      "        8796093022208      17592186044416      35184372088832\n",
      "       70368744177664     140737488355328]\n",
      " [    281474976710656     562949953421312    1125899906842624\n",
      "     2251799813685248    4503599627370496    9007199254740992\n",
      "    18014398509481984   36028797018963968]\n",
      " [  72057594037927936  144115188075855872  288230376151711744\n",
      "   576460752303423488 1152921504606846976 2305843009213693952\n",
      "  4611686018427387904 9223372036854775808]]\n"
     ]
    }
   ],
   "source": [
    "def wheat_8_8_square():\n",
    "    n_squares = 8*8\n",
    "    wheat_list = [1]\n",
    "    for i in range(n_squares - 1):\n",
    "        wheat_list.append(wheat_list[-1]*2)\n",
    "    wheat_ndarray = np.array(wheat_list)\n",
    "    wheat_ndarray = wheat_ndarray.reshape(8, 8)\n",
    "    return wheat_ndarray.astype(np.uint64)\n",
    "wheat_in_8_8 = wheat_8_8_square()\n",
    "print(\"Arrange wheat on a plate of 8 x 8 squares (ndarray)：\\n {}\".format(wheat_in_8_8))"
   ]
  },
  {
   "cell_type": "markdown",
   "metadata": {},
   "source": [
    "# Problem 3: Total number of wheat"
   ]
  },
  {
   "cell_type": "code",
   "execution_count": 57,
   "metadata": {
    "scrolled": true
   },
   "outputs": [
    {
     "name": "stdout",
     "output_type": "stream",
     "text": [
      "Total weak in 64 days: 18446744073709551615\n"
     ]
    },
    {
     "data": {
      "image/png": "[encoded data removed]",
      "text/plain": [
       "<Figure size 432x288 with 1 Axes>"
      ]
     },
     "metadata": {
      "needs_background": "light"
     },
     "output_type": "display_data"
    }
   ],
   "source": [
    "def total_number_of_wheat_8_8(wheat_ndarray):   \n",
    "    col_avg = np.array([])\n",
    "    for i in range(8):\n",
    "        col_avg = wheat_ndarray.mean(axis = 0)\n",
    "    return np.sum(wheat_ndarray).astype(np.uint64), col_avg.astype(np.uint64)\n",
    "\n",
    "wheat_sum, col_avg = total_number_of_wheat_8_8(wheat_in_8_8)\n",
    "\n",
    "print(\"Total weak in 64 days: {}\".format(wheat_sum))\n",
    "\n",
    "plt.xlabel(\"Column\")\n",
    "plt.ylabel(\"Wheat amount\")\n",
    "plt.title(\"Wheat amount in each column\")\n",
    "plt.bar(np.arange(1,9), col_avg)\n",
    "plt.show()\n",
    "\n",
    "\n",
    "    "
   ]
  },
  {
   "cell_type": "markdown",
   "metadata": {},
   "source": [
    "# Problem 4: Heat map of the number of wheat"
   ]
  },
  {
   "cell_type": "code",
   "execution_count": 67,
   "metadata": {},
   "outputs": [
    {
     "data": {
      "image/png": "[encoded data removed]",
      "text/plain": [
       "<Figure size 432x288 with 1 Axes>"
      ]
     },
     "metadata": {
      "needs_background": "light"
     },
     "output_type": "display_data"
    }
   ],
   "source": [
    "\n",
    "def heat_map_wheat(ndarray):\n",
    "    plt.xlabel(\"column\")\n",
    "    plt.ylabel(\"row\")\n",
    "    plt.title(\"heatmap\")\n",
    "    plt.pcolor(ndarray.reshape(4, 16))\n",
    "    plt.show()\n",
    "\n",
    "heat_map_wheat(wheat_in_8_8);\n",
    "    "
   ]
  },
  {
   "cell_type": "markdown",
   "metadata": {},
   "source": [
    "# Problem 5: How many times is the second half as long as the first half?"
   ]
  },
  {
   "cell_type": "code",
   "execution_count": 79,
   "metadata": {},
   "outputs": [
    {
     "name": "stdout",
     "output_type": "stream",
     "text": [
      "Can't compare because of: float division by zero\n"
     ]
    }
   ],
   "source": [
    "def time_comparison():\n",
    "    n_squares = 8*8\n",
    "    wheat_list = [1]\n",
    "    start_first_half = time.time()\n",
    "    for i in range(1, 31):\n",
    "        wheat_list.append(wheat_list[-1]*2)\n",
    "    elasped_time_first_half = time.time() - start_first_half\n",
    "    \n",
    "    start_second_half = time.time()\n",
    "    for i in range(31, 64):\n",
    "        wheat_list.append(wheat_list[-1]*2)\n",
    "    elasped_time_second_half = time.time() - start_second_half\n",
    "    \n",
    "    return elasped_time_first_half ,elasped_time_second_half\n",
    "\n",
    "elasped_time_first_half, elasped_time_second_half = time_comparison()\n",
    "try:\n",
    "    print(\"Second half is faster than first half: {} time\".format(elasped_time_second_half/elasped_time_first_half))\n",
    "except ZeroDivisionError as error:\n",
    "    print(\"Can't compare time because of: {}\".format(error))"
   ]
  },
  {
   "cell_type": "markdown",
   "metadata": {},
   "source": [
    "# Problem 6: Expansion to $n \\times m$ mass by another calculation method"
   ]
  },
  {
   "cell_type": "code",
   "execution_count": 115,
   "metadata": {
    "scrolled": false
   },
   "outputs": [
    {
     "name": "stdout",
     "output_type": "stream",
     "text": [
      "[[                  1                   2                   4\n",
      "                    8                  16                  32\n",
      "                   64                 128]\n",
      " [                256                 512                1024\n",
      "                 2048                4096                8192\n",
      "                16384               32768]\n",
      " [              65536              131072              262144\n",
      "               524288             1048576             2097152\n",
      "              4194304             8388608]\n",
      " [           16777216            33554432            67108864\n",
      "            134217728           268435456           536870912\n",
      "           1073741824          2147483648]\n",
      " [         4294967296          8589934592         17179869184\n",
      "          34359738368         68719476736        137438953472\n",
      "         274877906944        549755813888]\n",
      " [      1099511627776       2199023255552       4398046511104\n",
      "        8796093022208      17592186044416      35184372088832\n",
      "       70368744177664     140737488355328]\n",
      " [    281474976710656     562949953421312    1125899906842624\n",
      "     2251799813685248    4503599627370496    9007199254740992\n",
      "    18014398509481984   36028797018963968]\n",
      " [  72057594037927936  144115188075855872  288230376151711744\n",
      "   576460752303423488 1152921504606846976 2305843009213693952\n",
      "  4611686018427387904 9223372036854775808]]\n",
      "Number of wheat in the last trout：9223372036854775808\n"
     ]
    }
   ],
   "source": [
    "def expansion_8_8_square():\n",
    "    n_squares = 64\n",
    "    wheat_ndarray = np.array([1])\n",
    "    for _ in range(n_squares - 1):\n",
    "        wheat_ndarray = np.append(wheat_ndarray, 2*wheat_ndarray[-1]).astype(np.uint64)\n",
    "    return wheat_ndarray.reshape(8, 8)\n",
    "    \n",
    "wheat_ndarray = expansion_8_8_square()\n",
    "print(wheat_ndarray)\n",
    "print(\"Number of wheat in the last trout：{}\".format(wheat_ndarray[-1, - 1]))\n"
   ]
  },
  {
   "cell_type": "code",
   "execution_count": 116,
   "metadata": {},
   "outputs": [
    {
     "name": "stdout",
     "output_type": "stream",
     "text": [
      "[[                  1                   2                   4\n",
      "                    8                  16                  32\n",
      "                   64                 128]\n",
      " [                256                 512                1024\n",
      "                 2048                4096                8192\n",
      "                16384               32768]\n",
      " [              65536              131072              262144\n",
      "               524288             1048576             2097152\n",
      "              4194304             8388608]\n",
      " [           16777216            33554432            67108864\n",
      "            134217728           268435456           536870912\n",
      "           1073741824          2147483648]\n",
      " [         4294967296          8589934592         17179869184\n",
      "          34359738368         68719476736        137438953472\n",
      "         274877906944        549755813888]\n",
      " [      1099511627776       2199023255552       4398046511104\n",
      "        8796093022208      17592186044416      35184372088832\n",
      "       70368744177664     140737488355328]\n",
      " [    281474976710656     562949953421312    1125899906842624\n",
      "     2251799813685248    4503599627370496    9007199254740992\n",
      "    18014398509481984   36028797018963968]\n",
      " [  72057594037927936  144115188075855872  288230376151711744\n",
      "   576460752303423488 1152921504606846976 2305843009213693952\n",
      "  4611686018427387904 9223372036854775808]]\n",
      "Number of wheat in the last trout：9223372036854775808\n"
     ]
    }
   ],
   "source": [
    "def expansion_8_8_square_2():   \n",
    "    n_squares = 64\n",
    "    indices_of_squares = np.arange(n_squares)\n",
    "    board_ndarray = 2**indices_of_squares.astype(np.uint64) \n",
    "    return board_ndarray.reshape(8, 8)\n",
    "\n",
    "wheat_ndarray_2 = expansion_8_8_square_2()\n",
    "print(wheat_ndarray_2)\n",
    "print(\"Number of wheat in the last trout：{}\".format(wheat_ndarray_2[-1, -1]))\n"
   ]
  },
  {
   "cell_type": "markdown",
   "metadata": {},
   "source": [
    "# Problem 7: Comparing calculation times\n"
   ]
  },
  {
   "cell_type": "markdown",
   "metadata": {},
   "source": [
    "First implementation:"
   ]
  },
  {
   "cell_type": "code",
   "execution_count": 126,
   "metadata": {},
   "outputs": [
    {
     "name": "stdout",
     "output_type": "stream",
     "text": [
      "53.9 µs ± 693 ns per loop (mean ± std. dev. of 7 runs, 10000 loops each)\n"
     ]
    }
   ],
   "source": [
    "%%timeit\n",
    "wheat_8_8_square()\n"
   ]
  },
  {
   "cell_type": "markdown",
   "metadata": {},
   "source": [
    "Second implementation:"
   ]
  },
  {
   "cell_type": "code",
   "execution_count": 127,
   "metadata": {},
   "outputs": [
    {
     "name": "stdout",
     "output_type": "stream",
     "text": [
      "1.87 ms ± 74.1 µs per loop (mean ± std. dev. of 7 runs, 100 loops each)\n"
     ]
    }
   ],
   "source": [
    "%%timeit\n",
    "expansion_8_8_square()\n"
   ]
  },
  {
   "cell_type": "markdown",
   "metadata": {},
   "source": [
    "Third implementation:"
   ]
  },
  {
   "cell_type": "code",
   "execution_count": 128,
   "metadata": {},
   "outputs": [
    {
     "name": "stdout",
     "output_type": "stream",
     "text": [
      "11.9 µs ± 816 ns per loop (mean ± std. dev. of 7 runs, 100000 loops each)\n"
     ]
    }
   ],
   "source": [
    "%%timeit\n",
    "expansion_8_8_square_2()\n"
   ]
  },
  {
   "cell_type": "code",
   "execution_count": null,
   "metadata": {},
   "outputs": [],
   "source": []
  }
 ],
 "metadata": {
  "kernelspec": {
   "display_name": "Python 3",
   "language": "python",
   "name": "python3"
  },
  "language_info": {
   "codemirror_mode": {
    "name": "ipython",
    "version": 3
   },
   "file_extension": ".py",
   "mimetype": "text/x-python",
   "name": "python",
   "nbconvert_exporter": "python",
   "pygments_lexer": "ipython3",
   "version": "3.8.5"
  }
 },
 "nbformat": 4,
 "nbformat_minor": 4
}
